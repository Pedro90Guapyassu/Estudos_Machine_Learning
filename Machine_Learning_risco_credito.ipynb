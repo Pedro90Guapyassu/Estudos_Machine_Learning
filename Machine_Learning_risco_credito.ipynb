{
 "cells": [
  {
   "cell_type": "code",
   "execution_count": 1,
   "metadata": {
    "colab": {
     "base_uri": "https://localhost:8080/"
    },
    "executionInfo": {
     "elapsed": 22999,
     "status": "ok",
     "timestamp": 1621628826936,
     "user": {
      "displayName": "Pedro Henrique Menezes",
      "photoUrl": "",
      "userId": "12021089369134471983"
     },
     "user_tz": 180
    },
    "id": "cqEUQTfVlh20",
    "outputId": "89c8f820-d8d2-4c80-bfcb-5a59a1855466"
   },
   "outputs": [
    {
     "name": "stdout",
     "output_type": "stream",
     "text": [
      "Collecting plotly\n",
      "\u001b[?25l  Downloading https://files.pythonhosted.org/packages/1f/f6/bd3c17c8003b6641df1228e80e1acac97ed8402635e46c2571f8e1ef63af/plotly-4.14.3-py2.py3-none-any.whl (13.2MB)\n",
      "\u001b[K     |████████████████████████████████| 13.2MB 261kB/s \n",
      "\u001b[?25hRequirement already satisfied, skipping upgrade: retrying>=1.3.3 in /usr/local/lib/python3.7/dist-packages (from plotly) (1.3.3)\n",
      "Requirement already satisfied, skipping upgrade: six in /usr/local/lib/python3.7/dist-packages (from plotly) (1.15.0)\n",
      "Installing collected packages: plotly\n",
      "  Found existing installation: plotly 4.4.1\n",
      "    Uninstalling plotly-4.4.1:\n",
      "      Successfully uninstalled plotly-4.4.1\n",
      "Successfully installed plotly-4.14.3\n"
     ]
    }
   ],
   "source": [
    "!pip install plotly --upgrade"
   ]
  },
  {
   "cell_type": "code",
   "execution_count": 2,
   "metadata": {
    "executionInfo": {
     "elapsed": 2028,
     "status": "ok",
     "timestamp": 1621628853977,
     "user": {
      "displayName": "Pedro Henrique Menezes",
      "photoUrl": "",
      "userId": "12021089369134471983"
     },
     "user_tz": 180
    },
    "id": "2nL1i0henBA5"
   },
   "outputs": [],
   "source": [
    "import pandas as pd\n",
    "import numpy as np\n",
    "import seaborn as sns\n",
    "import matplotlib.pyplot as plt\n",
    "import plotly.express as px"
   ]
  },
  {
   "cell_type": "code",
   "execution_count": 3,
   "metadata": {
    "executionInfo": {
     "elapsed": 331,
     "status": "ok",
     "timestamp": 1621629083301,
     "user": {
      "displayName": "Pedro Henrique Menezes",
      "photoUrl": "",
      "userId": "12021089369134471983"
     },
     "user_tz": 180
    },
    "id": "GoSBYuEqnWyz"
   },
   "outputs": [],
   "source": [
    "df = pd.read_csv('/content/drive/MyDrive/Colab Notebooks/risco_credito.csv')"
   ]
  },
  {
   "cell_type": "code",
   "execution_count": null,
   "metadata": {
    "id": "X-7wGiPDnqfX"
   },
   "outputs": [],
   "source": [
    "from google.colab import drive\n",
    "drive.mount('/content/drive')"
   ]
  },
  {
   "cell_type": "code",
   "execution_count": 4,
   "metadata": {
    "colab": {
     "base_uri": "https://localhost:8080/",
     "height": 204
    },
    "executionInfo": {
     "elapsed": 231,
     "status": "ok",
     "timestamp": 1621629247829,
     "user": {
      "displayName": "Pedro Henrique Menezes",
      "photoUrl": "",
      "userId": "12021089369134471983"
     },
     "user_tz": 180
    },
    "id": "oqbcZbMRoCxd",
    "outputId": "dfcb2c70-3c94-49c4-83fc-7f2b2f898393"
   },
   "outputs": [
    {
     "data": {
      "text/html": [
       "<div>\n",
       "<style scoped>\n",
       "    .dataframe tbody tr th:only-of-type {\n",
       "        vertical-align: middle;\n",
       "    }\n",
       "\n",
       "    .dataframe tbody tr th {\n",
       "        vertical-align: top;\n",
       "    }\n",
       "\n",
       "    .dataframe thead th {\n",
       "        text-align: right;\n",
       "    }\n",
       "</style>\n",
       "<table border=\"1\" class=\"dataframe\">\n",
       "  <thead>\n",
       "    <tr style=\"text-align: right;\">\n",
       "      <th></th>\n",
       "      <th>historia</th>\n",
       "      <th>divida</th>\n",
       "      <th>garantias</th>\n",
       "      <th>renda</th>\n",
       "      <th>risco</th>\n",
       "    </tr>\n",
       "  </thead>\n",
       "  <tbody>\n",
       "    <tr>\n",
       "      <th>0</th>\n",
       "      <td>ruim</td>\n",
       "      <td>alta</td>\n",
       "      <td>nenhuma</td>\n",
       "      <td>0_15</td>\n",
       "      <td>alto</td>\n",
       "    </tr>\n",
       "    <tr>\n",
       "      <th>1</th>\n",
       "      <td>desconhecida</td>\n",
       "      <td>alta</td>\n",
       "      <td>nenhuma</td>\n",
       "      <td>15_35</td>\n",
       "      <td>alto</td>\n",
       "    </tr>\n",
       "    <tr>\n",
       "      <th>2</th>\n",
       "      <td>desconhecida</td>\n",
       "      <td>baixa</td>\n",
       "      <td>nenhuma</td>\n",
       "      <td>15_35</td>\n",
       "      <td>moderado</td>\n",
       "    </tr>\n",
       "    <tr>\n",
       "      <th>3</th>\n",
       "      <td>desconhecida</td>\n",
       "      <td>baixa</td>\n",
       "      <td>nenhuma</td>\n",
       "      <td>acima_35</td>\n",
       "      <td>alto</td>\n",
       "    </tr>\n",
       "    <tr>\n",
       "      <th>4</th>\n",
       "      <td>desconhecida</td>\n",
       "      <td>baixa</td>\n",
       "      <td>nenhuma</td>\n",
       "      <td>acima_35</td>\n",
       "      <td>baixo</td>\n",
       "    </tr>\n",
       "  </tbody>\n",
       "</table>\n",
       "</div>"
      ],
      "text/plain": [
       "       historia divida garantias     renda     risco\n",
       "0          ruim   alta   nenhuma      0_15      alto\n",
       "1  desconhecida   alta   nenhuma     15_35      alto\n",
       "2  desconhecida  baixa   nenhuma     15_35  moderado\n",
       "3  desconhecida  baixa   nenhuma  acima_35      alto\n",
       "4  desconhecida  baixa   nenhuma  acima_35     baixo"
      ]
     },
     "execution_count": 4,
     "metadata": {
      "tags": []
     },
     "output_type": "execute_result"
    }
   ],
   "source": [
    "df.head()"
   ]
  },
  {
   "cell_type": "code",
   "execution_count": 13,
   "metadata": {
    "colab": {
     "base_uri": "https://localhost:8080/"
    },
    "executionInfo": {
     "elapsed": 213,
     "status": "ok",
     "timestamp": 1621631022740,
     "user": {
      "displayName": "Pedro Henrique Menezes",
      "photoUrl": "",
      "userId": "12021089369134471983"
     },
     "user_tz": 180
    },
    "id": "1D1q2y98vYOs",
    "outputId": "76bf851f-d67c-4e07-90f0-9832affd2b7b"
   },
   "outputs": [
    {
     "data": {
      "text/plain": [
       "historia     object\n",
       "divida       object\n",
       "garantias    object\n",
       "renda        object\n",
       "risco        object\n",
       "dtype: object"
      ]
     },
     "execution_count": 13,
     "metadata": {
      "tags": []
     },
     "output_type": "execute_result"
    }
   ],
   "source": [
    "df.dtypes"
   ]
  },
  {
   "cell_type": "markdown",
   "metadata": {
    "id": "7qspmfTco0qi"
   },
   "source": [
    "#Divisão entre classes e previsores"
   ]
  },
  {
   "cell_type": "code",
   "execution_count": 9,
   "metadata": {
    "executionInfo": {
     "elapsed": 200,
     "status": "ok",
     "timestamp": 1621630645171,
     "user": {
      "displayName": "Pedro Henrique Menezes",
      "photoUrl": "",
      "userId": "12021089369134471983"
     },
     "user_tz": 180
    },
    "id": "34pQztndouqA"
   },
   "outputs": [],
   "source": [
    "x_credit = df.iloc[:,0:4].values"
   ]
  },
  {
   "cell_type": "code",
   "execution_count": 10,
   "metadata": {
    "colab": {
     "base_uri": "https://localhost:8080/"
    },
    "executionInfo": {
     "elapsed": 9,
     "status": "ok",
     "timestamp": 1621630647472,
     "user": {
      "displayName": "Pedro Henrique Menezes",
      "photoUrl": "",
      "userId": "12021089369134471983"
     },
     "user_tz": 180
    },
    "id": "hw5FywhRtov3",
    "outputId": "16732f79-751a-4102-8ed7-71792cf37c7e"
   },
   "outputs": [
    {
     "data": {
      "text/plain": [
       "array([['ruim', 'alta', 'nenhuma', '0_15'],\n",
       "       ['desconhecida', 'alta', 'nenhuma', '15_35'],\n",
       "       ['desconhecida', 'baixa', 'nenhuma', '15_35'],\n",
       "       ['desconhecida', 'baixa', 'nenhuma', 'acima_35'],\n",
       "       ['desconhecida', 'baixa', 'nenhuma', 'acima_35'],\n",
       "       ['desconhecida', 'baixa', 'adequada', 'acima_35'],\n",
       "       ['ruim', 'baixa', 'nenhuma', '0_15'],\n",
       "       ['ruim', 'baixa', 'adequada', 'acima_35'],\n",
       "       ['boa', 'baixa', 'nenhuma', 'acima_35'],\n",
       "       ['boa', 'alta', 'adequada', 'acima_35'],\n",
       "       ['boa', 'alta', 'nenhuma', '0_15'],\n",
       "       ['boa', 'alta', 'nenhuma', '15_35'],\n",
       "       ['boa', 'alta', 'nenhuma', 'acima_35'],\n",
       "       ['ruim', 'alta', 'nenhuma', '15_35']], dtype=object)"
      ]
     },
     "execution_count": 10,
     "metadata": {
      "tags": []
     },
     "output_type": "execute_result"
    }
   ],
   "source": [
    "x_credit"
   ]
  },
  {
   "cell_type": "code",
   "execution_count": 11,
   "metadata": {
    "executionInfo": {
     "elapsed": 233,
     "status": "ok",
     "timestamp": 1621630661161,
     "user": {
      "displayName": "Pedro Henrique Menezes",
      "photoUrl": "",
      "userId": "12021089369134471983"
     },
     "user_tz": 180
    },
    "id": "vajER_YQtv9w"
   },
   "outputs": [],
   "source": [
    "y_credit = df.iloc[:,4].values"
   ]
  },
  {
   "cell_type": "code",
   "execution_count": 12,
   "metadata": {
    "colab": {
     "base_uri": "https://localhost:8080/"
    },
    "executionInfo": {
     "elapsed": 339,
     "status": "ok",
     "timestamp": 1621630673458,
     "user": {
      "displayName": "Pedro Henrique Menezes",
      "photoUrl": "",
      "userId": "12021089369134471983"
     },
     "user_tz": 180
    },
    "id": "KxtfoOP3uEM2",
    "outputId": "9c86880f-162d-47fd-b7ed-798a06898a9d"
   },
   "outputs": [
    {
     "data": {
      "text/plain": [
       "array(['alto', 'alto', 'moderado', 'alto', 'baixo', 'baixo', 'alto',\n",
       "       'moderado', 'baixo', 'baixo', 'alto', 'moderado', 'baixo', 'alto'],\n",
       "      dtype=object)"
      ]
     },
     "execution_count": 12,
     "metadata": {
      "tags": []
     },
     "output_type": "execute_result"
    }
   ],
   "source": [
    "y_credit"
   ]
  },
  {
   "cell_type": "markdown",
   "metadata": {
    "id": "uWWc1mNnumnh"
   },
   "source": [
    "#Transformando os atributos em números com Label encoder"
   ]
  },
  {
   "cell_type": "code",
   "execution_count": 17,
   "metadata": {
    "executionInfo": {
     "elapsed": 888,
     "status": "ok",
     "timestamp": 1621632032158,
     "user": {
      "displayName": "Pedro Henrique Menezes",
      "photoUrl": "",
      "userId": "12021089369134471983"
     },
     "user_tz": 180
    },
    "id": "5ONoG_SDuiqv"
   },
   "outputs": [],
   "source": [
    "from sklearn.preprocessing import LabelEncoder"
   ]
  },
  {
   "cell_type": "code",
   "execution_count": 18,
   "metadata": {
    "executionInfo": {
     "elapsed": 206,
     "status": "ok",
     "timestamp": 1621632034303,
     "user": {
      "displayName": "Pedro Henrique Menezes",
      "photoUrl": "",
      "userId": "12021089369134471983"
     },
     "user_tz": 180
    },
    "id": "ss904YTsyIEQ"
   },
   "outputs": [],
   "source": [
    "label_encoder_historia = LabelEncoder()\n",
    "label_encoder_divida = LabelEncoder()\n",
    "label_encoder_garantias = LabelEncoder()\n",
    "label_encoder_renda = LabelEncoder()"
   ]
  },
  {
   "cell_type": "code",
   "execution_count": 20,
   "metadata": {
    "executionInfo": {
     "elapsed": 213,
     "status": "ok",
     "timestamp": 1621632331351,
     "user": {
      "displayName": "Pedro Henrique Menezes",
      "photoUrl": "",
      "userId": "12021089369134471983"
     },
     "user_tz": 180
    },
    "id": "vfShviywye-q"
   },
   "outputs": [],
   "source": [
    "x_credit[:,0] =label_encoder_historia.fit_transform(x_credit[:,0])\n",
    "x_credit[:,1] =label_encoder_divida.fit_transform(x_credit[:,1])\n",
    "x_credit[:,2] =label_encoder_garantias.fit_transform(x_credit[:,2])\n",
    "x_credit[:,3] =label_encoder_renda.fit_transform(x_credit[:,3])"
   ]
  },
  {
   "cell_type": "code",
   "execution_count": 21,
   "metadata": {
    "colab": {
     "base_uri": "https://localhost:8080/"
    },
    "executionInfo": {
     "elapsed": 298,
     "status": "ok",
     "timestamp": 1621632346439,
     "user": {
      "displayName": "Pedro Henrique Menezes",
      "photoUrl": "",
      "userId": "12021089369134471983"
     },
     "user_tz": 180
    },
    "id": "h-GbFxel0cjc",
    "outputId": "67acbde7-a7f2-4ca9-f35f-8dde120e5a74"
   },
   "outputs": [
    {
     "data": {
      "text/plain": [
       "array([[2, 0, 1, 0],\n",
       "       [1, 0, 1, 1],\n",
       "       [1, 1, 1, 1],\n",
       "       [1, 1, 1, 2],\n",
       "       [1, 1, 1, 2],\n",
       "       [1, 1, 0, 2],\n",
       "       [2, 1, 1, 0],\n",
       "       [2, 1, 0, 2],\n",
       "       [0, 1, 1, 2],\n",
       "       [0, 0, 0, 2],\n",
       "       [0, 0, 1, 0],\n",
       "       [0, 0, 1, 1],\n",
       "       [0, 0, 1, 2],\n",
       "       [2, 0, 1, 1]], dtype=object)"
      ]
     },
     "execution_count": 21,
     "metadata": {
      "tags": []
     },
     "output_type": "execute_result"
    }
   ],
   "source": [
    "x_credit"
   ]
  },
  {
   "cell_type": "code",
   "execution_count": 23,
   "metadata": {
    "executionInfo": {
     "elapsed": 252,
     "status": "ok",
     "timestamp": 1621632785138,
     "user": {
      "displayName": "Pedro Henrique Menezes",
      "photoUrl": "",
      "userId": "12021089369134471983"
     },
     "user_tz": 180
    },
    "id": "JPNigaPt2BtD"
   },
   "outputs": [],
   "source": [
    "import pickle\n",
    "with open('risco_credito.pkl', 'wb') as f:\n",
    "  pickle.dump([x_credit, y_credit], f)"
   ]
  },
  {
   "cell_type": "markdown",
   "metadata": {
    "id": "Vz3I7WGU1X4E"
   },
   "source": [
    "#Divisão entre base de teste e treinamento\n"
   ]
  },
  {
   "cell_type": "code",
   "execution_count": 22,
   "metadata": {
    "executionInfo": {
     "elapsed": 226,
     "status": "ok",
     "timestamp": 1621632605340,
     "user": {
      "displayName": "Pedro Henrique Menezes",
      "photoUrl": "",
      "userId": "12021089369134471983"
     },
     "user_tz": 180
    },
    "id": "TWiBry-60hVq"
   },
   "outputs": [],
   "source": [
    "from sklearn.model_selection import train_test_split"
   ]
  },
  {
   "cell_type": "markdown",
   "metadata": {
    "id": "0TqTbcFH2zhp"
   },
   "source": [
    "#Naives Bayes"
   ]
  },
  {
   "cell_type": "code",
   "execution_count": 24,
   "metadata": {
    "executionInfo": {
     "elapsed": 380,
     "status": "ok",
     "timestamp": 1621632981272,
     "user": {
      "displayName": "Pedro Henrique Menezes",
      "photoUrl": "",
      "userId": "12021089369134471983"
     },
     "user_tz": 180
    },
    "id": "5SaRqHJh2yCD"
   },
   "outputs": [],
   "source": [
    "from sklearn.naive_bayes import GaussianNB"
   ]
  },
  {
   "cell_type": "markdown",
   "metadata": {
    "id": "UcjPsbU93FiO"
   },
   "source": [
    "E então você passa as bases de treinamento"
   ]
  },
  {
   "cell_type": "code",
   "execution_count": 25,
   "metadata": {
    "colab": {
     "base_uri": "https://localhost:8080/"
    },
    "executionInfo": {
     "elapsed": 216,
     "status": "ok",
     "timestamp": 1621633071748,
     "user": {
      "displayName": "Pedro Henrique Menezes",
      "photoUrl": "",
      "userId": "12021089369134471983"
     },
     "user_tz": 180
    },
    "id": "5C1-Wskq3KAK",
    "outputId": "cf9a8172-1da3-4247-827b-b24a96cd1ef7"
   },
   "outputs": [
    {
     "data": {
      "text/plain": [
       "GaussianNB(priors=None, var_smoothing=1e-09)"
      ]
     },
     "execution_count": 25,
     "metadata": {
      "tags": []
     },
     "output_type": "execute_result"
    }
   ],
   "source": [
    "naive_risco_credito = GaussianNB()\n",
    "naive_risco_credito.fit(x_credit, y_credit)"
   ]
  },
  {
   "cell_type": "markdown",
   "metadata": {
    "id": "fANKL1qq3v1V"
   },
   "source": [
    "Agora passamos dados novos(nesse caso completamente fictícios). Nos outros casos criamos uma base de teste, mas aqui não."
   ]
  },
  {
   "cell_type": "code",
   "execution_count": 26,
   "metadata": {
    "executionInfo": {
     "elapsed": 212,
     "status": "ok",
     "timestamp": 1621633242506,
     "user": {
      "displayName": "Pedro Henrique Menezes",
      "photoUrl": "",
      "userId": "12021089369134471983"
     },
     "user_tz": 180
    },
    "id": "hIuvXiNi34MD"
   },
   "outputs": [],
   "source": [
    "# história boa (0), dívida alta (0), garantias nenhuma (1), renda > 35 (2)\n",
    "# história ruim (2), dívida alta (0), garantias adequada (0), renda < 15 (0)\n",
    "previsao = naive_risco_credito.predict([[0,0,1,2], [2,0,0,0]])"
   ]
  },
  {
   "cell_type": "code",
   "execution_count": 27,
   "metadata": {
    "colab": {
     "base_uri": "https://localhost:8080/"
    },
    "executionInfo": {
     "elapsed": 215,
     "status": "ok",
     "timestamp": 1621633263988,
     "user": {
      "displayName": "Pedro Henrique Menezes",
      "photoUrl": "",
      "userId": "12021089369134471983"
     },
     "user_tz": 180
    },
    "id": "Zyrmp09q36Rz",
    "outputId": "73c69ce1-b473-47ca-ddc1-d2d77e0d71ad"
   },
   "outputs": [
    {
     "data": {
      "text/plain": [
       "array(['baixo', 'moderado'], dtype='<U8')"
      ]
     },
     "execution_count": 27,
     "metadata": {
      "tags": []
     },
     "output_type": "execute_result"
    }
   ],
   "source": [
    "# E como resultado temos:\n",
    "previsao"
   ]
  }
 ],
 "metadata": {
  "colab": {
   "authorship_tag": "ABX9TyNdTe4yCHBxj31GmBvFGfz3",
   "mount_file_id": "1CDlZmdo3bUXuDUZ4UzqGrqgcIOljcsKY",
   "name": "Machine_Learning_risco_credito.ipynb",
   "provenance": []
  },
  "kernelspec": {
   "display_name": "Python 3",
   "language": "python",
   "name": "python3"
  },
  "language_info": {
   "codemirror_mode": {
    "name": "ipython",
    "version": 3
   },
   "file_extension": ".py",
   "mimetype": "text/x-python",
   "name": "python",
   "nbconvert_exporter": "python",
   "pygments_lexer": "ipython3",
   "version": "3.8.8"
  }
 },
 "nbformat": 4,
 "nbformat_minor": 1
}
